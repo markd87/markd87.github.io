{
 "cells": [
  {
   "cell_type": "code",
   "execution_count": 36,
   "metadata": {},
   "outputs": [],
   "source": [
    "# hide\n",
    "import numpy as np\n",
    "import pandas as pd\n",
    "import matplotlib\n",
    "import matplotlib.pyplot as plt\n",
    "from numpy.random import choice\n",
    "import scipy.optimize as optimize\n",
    "from typing import List, Tuple\n",
    "import seaborn as sns\n",
    "\n",
    "sns.set_style('whitegrid')"
   ]
  },
  {
   "cell_type": "markdown",
   "metadata": {},
   "source": [
    "# Fake coins and infectious diseases\n",
    "> \"How to speed up detection and testing\"\n",
    "- toc: true\n",
    "- branch: master\n",
    "- categories: [analysis, python]\n",
    "- hide: false\n",
    "- search_exclude: true\n",
    "- show_tags: true"
   ]
  },
  {
   "cell_type": "markdown",
   "metadata": {},
   "source": [
    "![image](../assets/coins.jpg)"
   ]
  },
  {
   "cell_type": "markdown",
   "metadata": {},
   "source": [
    "## Fake coins"
   ]
  },
  {
   "cell_type": "markdown",
   "metadata": {},
   "source": [
    "Imagine there are 1000 coins out of which 1% are fake, weighing a little less than a real coin.\n",
    "What is the fastest way to identify those 10 fake coins.\n",
    "\n",
    "The slowest way would be to weigh each coin one-by-one, which will require 1000 weighings. Can we do better? Yes."
   ]
  },
  {
   "cell_type": "markdown",
   "metadata": {},
   "source": [
    "The idea is called pooling. We divide the coins into pools of coins, which we weigh together.\n",
    "As we know the weight of a pool of real coins, we would know which pools contain fake coins."
   ]
  },
  {
   "cell_type": "markdown",
   "metadata": {},
   "source": [
    "**What is the advantage of pooling?**\n",
    "\n",
    "The probability of any coin being fake is $r=0.01$ (the prevalence of fakes in the available coins).\n",
    "Therefore, the probability of a pool of $s_1$ coins having at least one fake coin is:\n",
    "$p = 1 - (1-r)^{s_1}$  (the complementary probability of all the coins being real).\n",
    "If we divide the $N=1000$ coins into $N/s_1$ pools and weigh each pool, the expected number of pools that contain at least one fake coin are: $p\\frac{N}{s_1}$. The power of the pooling technique is that $(1-p)\\frac{N}{s_1}$ pools, will have all real coins, and therefore can be discarded.\n",
    "The coins in the remainig suspicious pools can then be weighed individually. What is the total number of weighings we need to do?\n",
    "\n",
    "$T = \\frac{N}{s_1} + pN$\n",
    "\n",
    "or written as fraction compared to $N$ (the total number of coins):\n",
    "\n",
    "\\begin{equation}\n",
    "\\frac{T}{N} = \\frac{1}{s_1} + p\n",
    "\\end{equation}"
   ]
  },
  {
   "cell_type": "markdown",
   "metadata": {},
   "source": [
    "As an example, if we choose $s_1=20$ we get that the expected number of tests \n",
    "to be able to identify all fake coins is: $232$, more than a factor 4 improvement.\n",
    "We see that the number of tests as a fraction of $N$ is independent of $N$."
   ]
  },
  {
   "cell_type": "markdown",
   "metadata": {},
   "source": [
    "**How to choose the optimal pool size?**"
   ]
  },
  {
   "cell_type": "markdown",
   "metadata": {},
   "source": [
    "To get the optimal pool size, we need to minimize the expression for the number of tests $T$, by varying $s_1$."
   ]
  },
  {
   "cell_type": "code",
   "execution_count": 37,
   "metadata": {},
   "outputs": [],
   "source": [
    "def tests(pools: List[float], r: float) -> float:\n",
    "  \"\"\"\n",
    "  Calculate expected value of tests, as percentage of population\n",
    "  \"\"\"\n",
    "  def p_frac(s: int, r: float) -> float:\n",
    "    \"\"\"\n",
    "    helper function to Calculate p \n",
    "    from prevelance r and pool size s\n",
    "    \"\"\"\n",
    "    return 1 - (1 - r)**s\n",
    "\n",
    "  r_val = r/100.0\n",
    "  total_tests = 0\n",
    "  r_vals = [r_val]\n",
    "  p_vals = [1]\n",
    "  s_vals = []\n",
    "  for i in range(len(pools)):\n",
    "    s_vals.append((pools[i]))\n",
    "    p_vals.append(p_frac(s_vals[i], r_vals[i]))\n",
    "    r_vals.append(r_vals[i]/p_vals[i+1])\n",
    "    total_tests += 1/s_vals[i]*np.prod(p_vals[:-1])\n",
    "\n",
    "  total_tests += np.prod(p_vals)\n",
    "  return total_tests*100\n",
    "\n",
    "\n",
    "def optim(n_pools: int, r: float) -> Tuple:\n",
    "  \"\"\"\n",
    "  Find optimal pool sizes for given number of poolings\n",
    "  and prevalance r.\n",
    "  parameters:\n",
    "    - n_pools: number of pools\n",
    "    - r: prevalance (percentage)\n",
    "  returns:\n",
    "    list of pool sizes and expected number of tests as \n",
    "    percentage of population\n",
    "  \"\"\"\n",
    "\n",
    "  initial_pools = [5*(i+1) for i in range(n_pools)]\n",
    "  initial_pools.reverse()\n",
    "  bounds = [(1,5000)]*n_pools\n",
    "\n",
    "  res = optimize.minimize(tests, \n",
    "                          initial_pools,  \n",
    "                          bounds=bounds,\n",
    "                          method='L-BFGS-B', \n",
    "                          options={'maxiter':5e7}, \n",
    "                          args=(r),\n",
    "                          tol=1e-15)\n",
    "  s=[]\n",
    "  for v in res.x:\n",
    "    s.append(v)\n",
    "  T = tests(s, r)\n",
    "  return s, T"
   ]
  },
  {
   "cell_type": "markdown",
   "metadata": {},
   "source": [
    "Using the above optimization method for prevalence of $1\\%$ gives:"
   ]
  },
  {
   "cell_type": "code",
   "execution_count": 71,
   "metadata": {},
   "outputs": [
    {
     "name": "stdout",
     "output_type": "stream",
     "text": [
      "Optimal pool size:  10\n",
      "Number of weighings:  196\n"
     ]
    }
   ],
   "source": [
    "# hide_input\n",
    "N=1000\n",
    "print(f\"Optimal pool size:  {int(np.floor(optim(n_pools=1, r=1)[0][0]))}\")\n",
    "print(f\"Number of weighings:  {int(np.ceil(optim(n_pools=1, r=1)[1]*N/100))}\")"
   ]
  },
  {
   "cell_type": "markdown",
   "metadata": {},
   "source": [
    "A significant improvement over the original $1000$ weighings."
   ]
  },
  {
   "cell_type": "markdown",
   "metadata": {},
   "source": [
    "A natural extension is to continue the pooling, known as nested-pooling, i.e. we divide the pools following the first weighing to new pools, with a different pool size, which can again be determiend by minimizing the expression for the number of test, in this case of 2-pools given by a slightly more complex expression:\n",
    "\n",
    "\\begin{equation}\n",
    "\\frac{T}{N} = \\frac{1}{s_1} + \\frac{p_2}{s_2} + p_1p_2N\n",
    "\\end{equation}\n",
    "\n",
    "where $s_1, s_2$ are the first and second pool sizes, respectively.\n",
    "$p_1$ is as before, and $p_2 = 1 - (1-\\frac{r}{p_1})^{s_2}$ is the modified probability for the second batch of pools."
   ]
  },
  {
   "cell_type": "markdown",
   "metadata": {},
   "source": [
    "I've been using the word \"expected\" number of weighings because we are dealing with probabilities and randomness in the separation of the coins into pools, therefore we are dealing with a distribution of possible values, the expected value of which is given by\n",
    "the formulas above. \n",
    "To demonstrate this we can actually run simulations of the pooling and record the number of required weighings."
   ]
  },
  {
   "cell_type": "code",
   "execution_count": 41,
   "metadata": {},
   "outputs": [],
   "source": [
    "def run_tests(S1:int = 9, S2:int = None, r:float = 1, N:int = 10**6) -> float:\n",
    "    \"\"\"\n",
    "    Run pooling and testing simulation (up to 2 pools)\n",
    "    retuns number of tests as fraction of population\n",
    "    parameters:\n",
    "        N - populationsize\n",
    "        S - pool size\n",
    "        r - prevalence (%)\n",
    "    returns:\n",
    "        tests as precentage of population\n",
    "    \"\"\"\n",
    "    pop = np.arange(1,N+1)\n",
    "    infected = set(choice(pop, int(r/100.*N), replace=False)) \n",
    "    n_buckets = int(np.ceil(N/S1))\n",
    "\n",
    "    pop_perm = np.random.permutation(pop)\n",
    "    buckets = np.array_split(pop_perm, n_buckets)\n",
    "    \n",
    "    positive_pop = []\n",
    "    for bucket in buckets:\n",
    "      if not infected.isdisjoint(bucket):\n",
    "        positive_pop.extend(bucket)\n",
    "\n",
    "    if S2:\n",
    "      # second pool\n",
    "      n_buckets2 = int(np.ceil(len(positive_pop)/S2))\n",
    "      positive_pop_perm = np.random.permutation(positive_pop)\n",
    "      buckets2 = np.array_split(positive_pop_perm, n_buckets2)\n",
    "\n",
    "      positive_pop2 = set()\n",
    "      for bucket in buckets2:\n",
    "        if not infected.isdisjoint(bucket):\n",
    "          positive_pop2.update(bucket)\n",
    "\n",
    "      total_tests = len(buckets) + len(buckets2) + len(positive_pop2)\n",
    "    else:\n",
    "      # Total number of test to get individual results\n",
    "      total_tests = n_buckets + len(positive_pop)\n",
    "\n",
    "    # fraction of population tested \n",
    "    pop_frac = (total_tests)*100/N\n",
    "    return pop_frac"
   ]
  },
  {
   "cell_type": "markdown",
   "metadata": {},
   "source": [
    "Running the tests multiple times for our example of the coins gives."
   ]
  },
  {
   "cell_type": "code",
   "execution_count": 84,
   "metadata": {},
   "outputs": [
    {
     "name": "stdout",
     "output_type": "stream",
     "text": [
      "Weighings = 196 +- 6\n"
     ]
    }
   ],
   "source": [
    "N=1000\n",
    "a=[]\n",
    "for i in range(1000):\n",
    "  a.append(run_tests(S1=10, r=1, N=1000))\n",
    "print(f\"Weighings = {N*np.mean(a)/100:.0f} +- {N/100*np.std(a):.0f}\")"
   ]
  },
  {
   "cell_type": "markdown",
   "metadata": {},
   "source": [
    "We can also simulate for different pool sizes and check if the above choice is indeed optimal."
   ]
  },
  {
   "cell_type": "code",
   "execution_count": 85,
   "metadata": {},
   "outputs": [],
   "source": [
    "s=np.arange(5,15)\n",
    "means = []\n",
    "for s1 in s:\n",
    "    a=[]\n",
    "    for i in range(1000):\n",
    "        a.append(run_tests(S1=s1, r=1, N=1000))\n",
    "    means.append(np.mean(a)*N/100)"
   ]
  },
  {
   "cell_type": "code",
   "execution_count": 92,
   "metadata": {},
   "outputs": [
    {
     "data": {
      "image/png": "[encoded data removed]",
      "text/plain": [
       "<Figure size 432x288 with 1 Axes>"
      ]
     },
     "metadata": {},
     "output_type": "display_data"
    }
   ],
   "source": [
    "# hide_input\n",
    "plt.plot(s,means,marker='o');\n",
    "plt.xlabel(r'$s_1$', fontsize=15);\n",
    "plt.ylabel('weighings', fontsize=15);\n",
    "plt.xticks(fontsize=14);\n",
    "plt.yticks(fontsize=14);\n",
    "plt.title(\"Simulated pooling & weighings\", fontsize=16);"
   ]
  },
  {
   "cell_type": "markdown",
   "metadata": {},
   "source": [
    "## Infectious diseases"
   ]
  },
  {
   "cell_type": "markdown",
   "metadata": {},
   "source": [
    "This idea can be generalized to the case of detecting infected individuals in a susceptible population\n",
    "for an ingectious disease. The crucial difference is the \"weighing\" method, which in the case of detecting infected individuals, is the [qPCR](https://en.wikipedia.org/wiki/Real-time_polymerase_chain_reaction) method, which is highly accurate way to identify the presence of a target DNA/RNA in a pooled sampled of DNAs."
   ]
  },
  {
   "cell_type": "markdown",
   "metadata": {},
   "source": [
    "My friend Yossi Eliaz ([@YossiElieaz](https://twitter.com/yossieliaz)) have explored this in a [paper](https://www.medrxiv.org/content/10.1101/2020.04.25.20079343v2) we published in medRxiv\n",
    "recently, demonstrating the great benefits of the pooling technique for testing for SARS-CoV-2 in a  population with an estimated prevalance obtained from a SIRD model fit to reported infections and deaths.\n",
    "Alongside the paper we've also made a streamlit [app](https://poolkeh.herokuapp.com/) allowing to find the optimal pooling strategy for different countries based on prevalence estimates."
   ]
  },
  {
   "cell_type": "code",
   "execution_count": null,
   "metadata": {},
   "outputs": [],
   "source": []
  }
 ],
 "metadata": {
  "kernelspec": {
   "display_name": "Python 3",
   "language": "python",
   "name": "python3"
  },
  "language_info": {
   "codemirror_mode": {
    "name": "ipython",
    "version": 3
   },
   "file_extension": ".py",
   "mimetype": "text/x-python",
   "name": "python",
   "nbconvert_exporter": "python",
   "pygments_lexer": "ipython3",
   "version": "3.7.6"
  }
 },
 "nbformat": 4,
 "nbformat_minor": 4
}
