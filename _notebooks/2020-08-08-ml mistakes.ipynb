{
 "cells": [
  {
   "cell_type": "code",
   "execution_count": 371,
   "metadata": {},
   "outputs": [],
   "source": [
    "# hide\n",
    "\n",
    "import numpy as np\n",
    "import pandas as pd\n",
    "from sklearn.model_selection import train_test_split, cross_val_score\n",
    "from sklearn.linear_model import LinearRegression, LogisticRegression\n",
    "from sklearn.feature_selection import SelectKBest, f_regression, f_classif\n",
    "from sklearn.pipeline import Pipeline\n",
    "from sklearn.ensemble import RandomForestRegressor\n",
    "\n",
    "import matplotlib.pyplot as plt"
   ]
  },
  {
   "cell_type": "markdown",
   "metadata": {},
   "source": [
    "# Machine Learning mistakes\n",
    "> \"Non-obvious pitfalls to avoid in machine learning\"\n",
    "- toc: true\n",
    "- branch: master\n",
    "- hide: false\n",
    "- search_exclude: true\n",
    "- show_tags: true\n",
    "- tags: [machine learning]"
   ]
  },
  {
   "cell_type": "markdown",
   "metadata": {},
   "source": [
    "## Test data leakage"
   ]
  },
  {
   "cell_type": "markdown",
   "metadata": {},
   "source": [
    "When choosing features for a regression or classification task out of a large number of potential features, one may first find the most correlated features with the target in the data set,\n",
    "and then build a model and train on a train-test split.\n",
    "\n",
    "The unobvious mistake is that when choosing the correlated features out of the whole dataset, before doing the train-test split, there is already information leakage from the test set to the training process, leading to potentially wrong conclusions."
   ]
  },
  {
   "cell_type": "markdown",
   "metadata": {},
   "source": [
    "To demonstrate it, consider completeley random data set of 1000 records, with 5000 features populated with random values from a normal distribution and a random target. \n",
    "We then select the top 100 features most correlated with the target are selected to train a model."
   ]
  },
  {
   "cell_type": "markdown",
   "metadata": {},
   "source": [
    "**Regression:**\n",
    "Here we use the [F-statistic](https://scikit-learn.org/stable/modules/generated/sklearn.feature_selection.f_regression.html#sklearn.feature_selection.f_regression) as the measure of correlation between the features and target."
   ]
  },
  {
   "cell_type": "markdown",
   "metadata": {},
   "source": [
    "Create randomly distributed features and target:"
   ]
  },
  {
   "cell_type": "code",
   "execution_count": 403,
   "metadata": {},
   "outputs": [],
   "source": [
    "np.random.seed(0)\n",
    "X = np.random.rand(1000, 5000)\n",
    "y = np.random.rand(1000)"
   ]
  },
  {
   "cell_type": "markdown",
   "metadata": {},
   "source": [
    "First method (wrong): selecting best features then perform train-test split, train a linear regression model and evaluate."
   ]
  },
  {
   "cell_type": "code",
   "execution_count": 404,
   "metadata": {},
   "outputs": [
    {
     "name": "stdout",
     "output_type": "stream",
     "text": [
      "Model R^2 score: 0.3275513353773228\n"
     ]
    }
   ],
   "source": [
    "X_new = SelectKBest(f_regression, k=100).fit_transform(X, y)\n",
    "\n",
    "x_train, x_test, y_train, y_test = train_test_split(X_new, y, test_size=0.33, random_state=42)\n",
    "\n",
    "model = LinearRegression().fit(x_train, y_train)\n",
    "print(f\"Model R^2 score: {model.score(x_test, y_test)}\")"
   ]
  },
  {
   "cell_type": "markdown",
   "metadata": {},
   "source": [
    "Second method: create a train-test split, then choose best features from training set, train a linear regression model and evalute."
   ]
  },
  {
   "cell_type": "code",
   "execution_count": 405,
   "metadata": {},
   "outputs": [
    {
     "name": "stdout",
     "output_type": "stream",
     "text": [
      "Model R^2 score: -0.11827546107457221\n"
     ]
    }
   ],
   "source": [
    "x_train, x_test, y_train, y_test = train_test_split(X, y, test_size=0.33, random_state=42)\n",
    "\n",
    "X_new = SelectKBest(f_regression, k=100).fit_transform(x_train, y_train)\n",
    "\n",
    "model = LinearRegression().fit(x_train, y_train)\n",
    "print(f\"Model R^2 score: {model.score(x_test, y_test)}\")"
   ]
  },
  {
   "cell_type": "markdown",
   "metadata": {},
   "source": [
    "We can see that the first method has a positive score for the linear regression model which is **spurious** and non-existed given we used comlpetley random data, \n",
    "whereas the second method has a negative $R^2$ indicating no linear correlation.\n",
    "The non-negative correlation obtained in the first method is due to the test data leakage during the feature selection process."
   ]
  },
  {
   "cell_type": "markdown",
   "metadata": {},
   "source": [
    "We can repeat the process using cross validation as well:"
   ]
  },
  {
   "cell_type": "markdown",
   "metadata": {},
   "source": [
    "First method: select features then perform cross validation:"
   ]
  },
  {
   "cell_type": "code",
   "execution_count": 406,
   "metadata": {},
   "outputs": [
    {
     "name": "stdout",
     "output_type": "stream",
     "text": [
      "Cross validation mean score: 0.31089595750882204\n"
     ]
    }
   ],
   "source": [
    "X_new = SelectKBest(f_regression, k=100).fit_transform(X, y)\n",
    "\n",
    "model = LinearRegression()\n",
    "\n",
    "print(f\"Cross validation mean score: {cross_val_score(model, X_new, y, cv=5).mean()}\")"
   ]
  },
  {
   "cell_type": "markdown",
   "metadata": {},
   "source": [
    "Second method: Perform feature selection in each cross validation split:"
   ]
  },
  {
   "cell_type": "code",
   "execution_count": 407,
   "metadata": {},
   "outputs": [
    {
     "name": "stdout",
     "output_type": "stream",
     "text": [
      "Cross validation mean score: -0.3401749011815241\n"
     ]
    }
   ],
   "source": [
    "select_k = SelectKBest(f_regression, k=100)\n",
    "model = LinearRegression()\n",
    "\n",
    "pipe = Pipeline(steps=[('k_best', select_k), ('model', model)])\n",
    "\n",
    "print(f\"Cross validation mean score: {cross_val_score(pipe, X, y, cv=5).mean()}\")"
   ]
  },
  {
   "cell_type": "markdown",
   "metadata": {},
   "source": [
    "**Classification**"
   ]
  },
  {
   "cell_type": "markdown",
   "metadata": {},
   "source": [
    "The problem can also be seen with a classification problem. Here we use [ANOVA F-value](https://scikit-learn.org/stable/modules/generated/sklearn.feature_selection.f_classif.html#sklearn.feature_selection.f_classif) statstic to measure correlation between feature and target."
   ]
  },
  {
   "cell_type": "code",
   "execution_count": 408,
   "metadata": {},
   "outputs": [],
   "source": [
    "X = np.random.randn(1000, 5000)\n",
    "y = np.random.randint(low=0, high=2, size=(1000,)) # target classes = [0,1]"
   ]
  },
  {
   "cell_type": "markdown",
   "metadata": {},
   "source": [
    "First method: selecting best featuers on entire dataset."
   ]
  },
  {
   "cell_type": "code",
   "execution_count": 411,
   "metadata": {},
   "outputs": [
    {
     "data": {
      "text/plain": [
       "0.710927092709271"
      ]
     },
     "execution_count": 411,
     "metadata": {},
     "output_type": "execute_result"
    }
   ],
   "source": [
    "X_new = SelectKBest(f_classif, k=50).fit_transform(X, y)\n",
    "\n",
    "model = LogisticRegression(solver='lbfgs')\n",
    "\n",
    "cross_val_score(model, X_new, y, cv=10).mean()"
   ]
  },
  {
   "cell_type": "markdown",
   "metadata": {},
   "source": [
    "Second method: Selecting best features within each training fold."
   ]
  },
  {
   "cell_type": "code",
   "execution_count": 412,
   "metadata": {},
   "outputs": [
    {
     "data": {
      "text/plain": [
       "0.48802495062376555"
      ]
     },
     "execution_count": 412,
     "metadata": {},
     "output_type": "execute_result"
    }
   ],
   "source": [
    "select_k = SelectKBest(k=50)\n",
    "model = LogisticRegression(solver='lbfgs')\n",
    "\n",
    "pipe = Pipeline(steps=[('k_best', select_k), ('model', model)])\n",
    "\n",
    "cross_val_score(pipe, X, y, cv=5).mean()"
   ]
  },
  {
   "cell_type": "markdown",
   "metadata": {},
   "source": [
    "As expected the model performans is as good as random, expected given the random dataset."
   ]
  },
  {
   "cell_type": "markdown",
   "metadata": {},
   "source": [
    "The difference in the scores between the two methods is significant. The test data leakage results in a much better than random model, simply because the model\n",
    "has indirectly been trained on the test set through the feature selection process."
   ]
  },
  {
   "cell_type": "markdown",
   "metadata": {},
   "source": [
    "## Out of sample prediction"
   ]
  },
  {
   "cell_type": "markdown",
   "metadata": {},
   "source": [
    "This mistake applies to tree based models (random forest, xgboost, light gbm etc.) in which\n",
    "one tries to obtain a prediction outside of the training domain of the model.\n",
    "This is particularly evident in casess where there is a time-dependent feature and a trend in the data "
   ]
  },
  {
   "cell_type": "code",
   "execution_count": 415,
   "metadata": {},
   "outputs": [
    {
     "data": {
      "image/png": "[encoded data removed]",
      "text/plain": [
       "<Figure size 432x288 with 1 Axes>"
      ]
     },
     "metadata": {
      "needs_background": "light"
     },
     "output_type": "display_data"
    }
   ],
   "source": [
    "X = np.linspace(0, 10, 100)\n",
    "y = 2*X + np.random.randn(100)\n",
    "\n",
    "plt.scatter(X, y);\n",
    "plt.xlabel('X')\n",
    "plt.ylabel('y')\n",
    "plt.title('Dataset');"
   ]
  },
  {
   "cell_type": "markdown",
   "metadata": {},
   "source": [
    "Train-test split:"
   ]
  },
  {
   "cell_type": "code",
   "execution_count": 416,
   "metadata": {},
   "outputs": [
    {
     "data": {
      "image/png": "[encoded data removed]",
      "text/plain": [
       "<Figure size 432x288 with 1 Axes>"
      ]
     },
     "metadata": {
      "needs_background": "light"
     },
     "output_type": "display_data"
    }
   ],
   "source": [
    "X_train = X[:int(len(X)*0.7)]\n",
    "y_train = y[:int(len(X)*0.7)]\n",
    "\n",
    "X_test = X[int(len(X)*0.7):]\n",
    "y_test = y[int(len(X)*0.7):]\n",
    "\n",
    "plt.scatter(X_train, y_train, label='train', color='blue');\n",
    "plt.scatter(X_test, y_test, label='test', color='red');\n",
    "plt.xlabel('X')\n",
    "plt.ylabel('y')\n",
    "plt.title('Dataset');\n",
    "plt.legend();"
   ]
  },
  {
   "cell_type": "markdown",
   "metadata": {},
   "source": [
    "Train a random forest model and evaluate on test set:"
   ]
  },
  {
   "cell_type": "code",
   "execution_count": 417,
   "metadata": {},
   "outputs": [],
   "source": [
    "rf = RandomForestRegressor(n_estimators=10, max_depth=3).fit(X_train[:, np.newaxis], y_train)"
   ]
  },
  {
   "cell_type": "markdown",
   "metadata": {},
   "source": [
    "Performance on training data:"
   ]
  },
  {
   "cell_type": "code",
   "execution_count": 419,
   "metadata": {},
   "outputs": [
    {
     "data": {
      "text/plain": [
       "0.9626096946559975"
      ]
     },
     "execution_count": 419,
     "metadata": {},
     "output_type": "execute_result"
    }
   ],
   "source": [
    "rf.score(X_train[:, np.newaxis], y_train)"
   ]
  },
  {
   "cell_type": "code",
   "execution_count": 420,
   "metadata": {},
   "outputs": [
    {
     "data": {
      "image/png": "[encoded data removed]",
      "text/plain": [
       "<Figure size 432x288 with 1 Axes>"
      ]
     },
     "metadata": {
      "needs_background": "light"
     },
     "output_type": "display_data"
    }
   ],
   "source": [
    "y_train_pred = rf.predict(X_train[:, np.newaxis])\n",
    "y_test_pred = rf.predict(X_test[:, np.newaxis])\n",
    "\n",
    "plt.scatter(X_train, y_train, label='train', color='blue');\n",
    "plt.scatter(X_test, y_test, label='test', color='red');\n",
    "plt.plot(X_train, y_train_pred, label='prediction train', color='orange', linewidth=4)\n",
    "plt.plot(X_test, y_test_pred, label='prediction test', color='black', linewidth=4)\n",
    "plt.xlabel('X')\n",
    "plt.ylabel('y')\n",
    "plt.legend(frameon=False);"
   ]
  },
  {
   "cell_type": "markdown",
   "metadata": {},
   "source": [
    "We see in the plot that the model is incapable of predicting y for x values outside its training domain,\n",
    "resulting in the flat black prediction line corresponding to the prediction for the x value at the boundary of the trainin set. This is despite the model being able to fit well the training data, shown with the purple line."
   ]
  },
  {
   "cell_type": "code",
   "execution_count": null,
   "metadata": {},
   "outputs": [],
   "source": []
  }
 ],
 "metadata": {
  "kernelspec": {
   "display_name": "Python 3",
   "language": "python",
   "name": "python3"
  },
  "language_info": {
   "codemirror_mode": {
    "name": "ipython",
    "version": 3
   },
   "file_extension": ".py",
   "mimetype": "text/x-python",
   "name": "python",
   "nbconvert_exporter": "python",
   "pygments_lexer": "ipython3",
   "version": "3.7.4"
  }
 },
 "nbformat": 4,
 "nbformat_minor": 4
}
