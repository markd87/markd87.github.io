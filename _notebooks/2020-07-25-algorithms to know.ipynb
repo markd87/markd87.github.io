{
 "cells": [
  {
   "cell_type": "code",
   "execution_count": 41,
   "metadata": {},
   "outputs": [],
   "source": [
    "# hide\n",
    "from typing import List, Dict, Tuple"
   ]
  },
  {
   "cell_type": "markdown",
   "metadata": {},
   "source": [
    "# Algorithms to know\n",
    "> \"Common algorithms to know\"\n",
    "- toc: true\n",
    "- branch: master\n",
    "- hide: false\n",
    "- search_exclude: true\n",
    "- show_tags: false"
   ]
  },
  {
   "cell_type": "markdown",
   "metadata": {},
   "source": [
    "## Quicksort"
   ]
  },
  {
   "cell_type": "markdown",
   "metadata": {},
   "source": [
    "**Purpose**: Sort array\n",
    "\n",
    "**Idea**:\n",
    "> Recursive sorting of smaller arrays until array size is 1 and there's nothing to sort.\n",
    "Pick a pivot, create array of smaller elements, and array of larger elements\n",
    "run sorting on smaller arrays. if array size is 1 return the array\n",
    "\n",
    "**Time Complexity**: O(nlog(n)), log(n) levels due to splitting the arrays, for each levels\n",
    "we go through the whole array."
   ]
  },
  {
   "cell_type": "markdown",
   "metadata": {},
   "source": [
    "### Code"
   ]
  },
  {
   "cell_type": "code",
   "execution_count": 30,
   "metadata": {},
   "outputs": [],
   "source": [
    "def quicksort(array: List[int]) -> List[int]:\n",
    "    \"\"\" Sort array of numbers from smallest to largest\"\"\"\n",
    "    # Base case of recursion\n",
    "    # array of size, nothing to sort\n",
    "    if len(array) < 2:\n",
    "        return array\n",
    "\n",
    "    # Pick pivot at the middle of the array\n",
    "    pivot = array[len(array) // 2]\n",
    "\n",
    "    # create array of smaller than pivot elements\n",
    "    smaller_arr = [el for el in array if el < pivot]\n",
    "\n",
    "    # create array of larger than pivot elements\n",
    "    larger_arr = [el for el in array if el > pivot]\n",
    "\n",
    "    # run sorting on the array of smaller and larger elements\n",
    "    # and combine with the pivot element in the middle\n",
    "    return quicksort(smaller_arr) + [pivot] + quicksort(larger_arr)"
   ]
  },
  {
   "cell_type": "markdown",
   "metadata": {},
   "source": [
    "### Example"
   ]
  },
  {
   "cell_type": "code",
   "execution_count": 31,
   "metadata": {},
   "outputs": [
    {
     "name": "stdout",
     "output_type": "stream",
     "text": [
      "Input array: [25, 42, 27, 95, 47, 13, 94, 96, 4, 99]\n",
      "Sorted array: [4, 13, 25, 27, 42, 47, 94, 95, 96, 99]\n"
     ]
    }
   ],
   "source": [
    "import random\n",
    "# sample 10 random numbers between 1 to 100\n",
    "array = random.sample(range(1, 100), 10)\n",
    "\n",
    "print(f\"Input array: {array}\")\n",
    "print(f\"Sorted array: {quicksort(array)}\")"
   ]
  },
  {
   "cell_type": "markdown",
   "metadata": {},
   "source": [
    "## Binary search"
   ]
  },
  {
   "cell_type": "markdown",
   "metadata": {},
   "source": [
    "**Purpose**: Find element in a sorted array.\n",
    "\n",
    "**Idea**:\n",
    ">Compare element to middle element in the array\n",
    "Based on comparison reduce search to half the array\n",
    "continue until element is found or no elements remain in array\n",
    "\n",
    "**Time complexity**: $O(\\log n)$"
   ]
  },
  {
   "cell_type": "markdown",
   "metadata": {},
   "source": [
    "### Code"
   ]
  },
  {
   "cell_type": "code",
   "execution_count": 32,
   "metadata": {},
   "outputs": [],
   "source": [
    "def binarysearch(array: List[int], number: int) -> int:\n",
    "    \"\"\"\n",
    "    Find element in a sorted array\n",
    "    \"\"\"\n",
    "\n",
    "    # initialize start and end indices\n",
    "    start = 0\n",
    "    end = len(array)\n",
    "\n",
    "    while start < end:\n",
    "        middle = (start + end) // 2  # get middle index of array\n",
    "        if number == array[middle]:  # element was found\n",
    "            return middle\n",
    "        if array[middle] < number:\n",
    "            # middle element is smaller than number, update start to after middle index\n",
    "            # keep end the same. This halves the search array to the right\n",
    "            start = middle + 1\n",
    "        else:\n",
    "            # middle element is larger than number, update end to before middle index\n",
    "            # keeps start the same. This halves the search array to the left.\n",
    "            end = middle - 1\n",
    "    # loop has finished with an empty array, number not found\n",
    "    return -1"
   ]
  },
  {
   "cell_type": "markdown",
   "metadata": {},
   "source": [
    "### Example"
   ]
  },
  {
   "cell_type": "code",
   "execution_count": 33,
   "metadata": {},
   "outputs": [
    {
     "name": "stdout",
     "output_type": "stream",
     "text": [
      "Input array: [4, 18, 20, 21, 30, 34, 43, 47, 74, 96]\n",
      "Number to find: 47\n",
      "Index found: -1\n"
     ]
    }
   ],
   "source": [
    "# sample 100 random numbers between 1 to 1000, and sort\n",
    "array = sorted(random.sample(range(1, 100), 10))\n",
    "print(f\"Input array: {array}\")\n",
    "\n",
    "# sample random number from array\n",
    "number = random.sample(array, 1)[0]\n",
    "print(f\"Number to find: {number}\")\n",
    "\n",
    "print(f\"Index found: {binarysearch(array, number)}\")"
   ]
  },
  {
   "cell_type": "markdown",
   "metadata": {},
   "source": [
    "## Graph search"
   ]
  },
  {
   "cell_type": "markdown",
   "metadata": {},
   "source": [
    "**Purpose**:\n",
    "Breadth-First (BF) search is used to find if a path to a node exists in a graph\n",
    "and finds the shortest path.\n",
    "\n",
    "**Idea**:\n",
    ">Go through all neighbors of a node before moving to the next-neighbor nodes.\n",
    "Keep neighbors in a queue to go through them by order of insertion.\n",
    "\n",
    "**Time Complexity**: $O(E+V)$, at most going through every edge ($E$) and adding each edge to a queue ($V$)"
   ]
  },
  {
   "cell_type": "markdown",
   "metadata": {},
   "source": [
    "### Code"
   ]
  },
  {
   "cell_type": "code",
   "execution_count": 34,
   "metadata": {},
   "outputs": [],
   "source": [
    "from collections import deque\n",
    "\n",
    "def trace_path(parents, start, end):\n",
    "    \"\"\" Trace path back from end to start using parents \"\"\"\n",
    "    path = [end]\n",
    "    while path[-1] != start:\n",
    "        path.append(parents[path[-1]])\n",
    "    path.reverse()\n",
    "    return path\n",
    "\n",
    "\n",
    "def graphsearch(graph: Dict[str, List[str]], start: str, end: str) -> bool:\n",
    "    \"\"\"\n",
    "    Search shortest path from start to end node in a graph using breadth-first search\n",
    "    \"\"\"\n",
    "\n",
    "    queue = deque()  # create empty queue\n",
    "    queue += [start]  # add start node to queue\n",
    "    searched: List[str] = []  # initialise list of processed nodes\n",
    "    # initialise dictionary fo parent of node for tracing back path\n",
    "    parents: Dict[str, str] = {}\n",
    "\n",
    "    while queue:\n",
    "        node = queue.popleft()  # get node from queue\n",
    "        if node not in searched:  # process node if not already processed\n",
    "            if node == end:  # found end node\n",
    "                print(f\"path to {end} found\")\n",
    "                print(f\"path: {trace_path(parents, start, end)}\")\n",
    "                return True\n",
    "            else:\n",
    "                queue += graph[node]  # add neighbors of node to the queue\n",
    "                searched.append(node)  # add node to processed nodes to not repeat\n",
    "                for n in graph[node]:  # add parent for each of node's neighbors\n",
    "                    parents[n] = node\n",
    "\n",
    "    # queue is empty, path not found\n",
    "    print(f\"path to {end} not found\")\n",
    "    return False"
   ]
  },
  {
   "cell_type": "markdown",
   "metadata": {},
   "source": [
    "### Example"
   ]
  },
  {
   "cell_type": "markdown",
   "metadata": {},
   "source": [
    "<img src='../assets/simple_graph.png' width='200px'>"
   ]
  },
  {
   "cell_type": "code",
   "execution_count": 35,
   "metadata": {},
   "outputs": [
    {
     "name": "stdout",
     "output_type": "stream",
     "text": [
      "path to David found\n",
      "path: ['Mark', 'Alice', 'David']\n",
      "\n",
      "path to John found\n",
      "path: ['Mark', 'Bob', 'John']\n",
      "\n",
      "path to Sven not found\n"
     ]
    }
   ],
   "source": [
    "graph = {}\n",
    "graph[\"Mark\"] = [\"Alice\", \"Bob\"]\n",
    "graph[\"Alice\"] = [\"David\"]\n",
    "graph[\"Bob\"] = [\"John\"]\n",
    "graph[\"John\"] = [\"David\"]\n",
    "graph[\"David\"] = []\n",
    "graph[\"Alex\"] = ['Sven']\n",
    "graph[\"Sven\"] = []\n",
    "\n",
    "found = graphsearch(graph, \"Mark\", \"David\")\n",
    "print()\n",
    "found = graphsearch(graph, \"Mark\", \"John\")\n",
    "print()\n",
    "found = graphsearch(graph, \"Mark\", \"Sven\")"
   ]
  },
  {
   "cell_type": "markdown",
   "metadata": {},
   "source": [
    "## Dijkstra algorithm"
   ]
  },
  {
   "cell_type": "markdown",
   "metadata": {},
   "source": [
    "**Purpose**: Finds shortest path (weight-wise) to a node in a graph.\n",
    "\n",
    "**Idea**:\n",
    "> Find smallest weight node using a min-heap data structure,\n",
    "there is no cheaper way to get to that node.\n",
    "Check if there's a cheaper way to get to its neighbors, update distances, min-heap\n",
    "and parents. Repeat for all nodes in the graph, keeping track of distances to nodes.\n",
    "\n",
    "\n",
    "**Complexity**: $O(E\\log(V))$, the log comes from the min-heap\n",
    "alternative implementation with an array instead of min-heap will have $O(V^2)$\n"
   ]
  },
  {
   "cell_type": "markdown",
   "metadata": {},
   "source": [
    "### Code"
   ]
  },
  {
   "cell_type": "code",
   "execution_count": 43,
   "metadata": {},
   "outputs": [],
   "source": [
    "import heapq  # standard library min-heap\n",
    "\n",
    "def trace_path(parents, start, end):\n",
    "    \"\"\" Trace path back from end to start using parents \"\"\"\n",
    "    path = [end]\n",
    "    while path[-1] != start:\n",
    "        path.append(parents[path[-1]])\n",
    "    path.reverse()\n",
    "    return path\n",
    "\n",
    "\n",
    "def dijkstra(graph: Dict[str, Dict[str, float]], start: str, end: str) -> Tuple[List[str], float]:\n",
    "    \"\"\" \n",
    "    Find shortest weighted path between nodes in a non-negative weights\n",
    "    directed and acyclic graph \n",
    "    \"\"\"\n",
    "\n",
    "    # Initialize dictionary of distances and parents\n",
    "    distances: Dict[str, float] = {}\n",
    "    parents: Dict[str, str] = {}\n",
    "\n",
    "    # Initialize a min-heap of weights\n",
    "    weights: List = []\n",
    "    heapq.heapify(weights)\n",
    "\n",
    "    # Set all distances to nodes to infinity\n",
    "    infinity = float(\"inf\")\n",
    "    for node in graph:\n",
    "        parents[node] = \"\"\n",
    "        distances[node] = infinity\n",
    "\n",
    "    # add start node to min-heap with weight zero, and set distance to zero\n",
    "    heapq.heappush(weights, (0, start))\n",
    "    distances[start] = 0\n",
    "\n",
    "    # Get lowest weight nodes to start going through its neighbors\n",
    "    while weights:\n",
    "        node = heapq.heappop(weights)  # get node from min-heap\n",
    "\n",
    "        neighbors = graph[node[1]]  # current node's neighbors\n",
    "        for n in neighbors.keys():  # loop over neighbors\n",
    "            new_dist = distances[node[1]] + neighbors[n]\n",
    "            if new_dist < distances[n]:\n",
    "                # update the weights and parent only if the new weighted path weighs less\n",
    "                # in that case a more efficient path to the neighbor has been found\n",
    "                distances[n] = new_dist\n",
    "                parents[n] = node[1]\n",
    "                heapq.heappush(weights, (new_dist, n))\n",
    "\n",
    "    # get path of smallest weight using parents dictionary\n",
    "    path = trace_path(parents, start, end)\n",
    "    # get final distance of optimal path\n",
    "    distance = distances[end]\n",
    "    print(\n",
    "        f\"Shortest weighted-path from {start} to {end}: {path}, with total distance: {distance}\"\n",
    "    )\n",
    "    return path, distance"
   ]
  },
  {
   "cell_type": "markdown",
   "metadata": {},
   "source": [
    "### Example"
   ]
  },
  {
   "cell_type": "markdown",
   "metadata": {},
   "source": [
    "<img src='../assets/weighted_graph.png' width='200px'>"
   ]
  },
  {
   "cell_type": "code",
   "execution_count": 42,
   "metadata": {},
   "outputs": [
    {
     "name": "stdout",
     "output_type": "stream",
     "text": [
      "Shortest weighted-path from A to D: ['A', 'B', 'C', 'D'], with total distance: 5\n",
      "Shortest weighted-path from A to C: ['A', 'B', 'C'], with total distance: 3\n"
     ]
    }
   ],
   "source": [
    "# define graph\n",
    "graph: Dict[str, Dict[str, float]] = {}\n",
    "\n",
    "graph[\"A\"] = {}\n",
    "graph[\"A\"][\"B\"] = 2\n",
    "graph[\"A\"][\"C\"] = 5\n",
    "graph[\"B\"] = {}\n",
    "graph[\"B\"][\"C\"] = 1\n",
    "graph[\"B\"][\"D\"] = 6\n",
    "graph[\"C\"] = {}\n",
    "graph[\"C\"][\"D\"] = 2\n",
    "graph[\"D\"] = {}\n",
    "\n",
    "# find path and weight\n",
    "path, weight = dijkstra(graph, \"A\", \"D\")\n",
    "path, weight = dijkstra(graph, \"A\", \"C\")"
   ]
  },
  {
   "cell_type": "code",
   "execution_count": null,
   "metadata": {},
   "outputs": [],
   "source": []
  }
 ],
 "metadata": {
  "kernelspec": {
   "display_name": "Python 3",
   "language": "python",
   "name": "python3"
  },
  "language_info": {
   "codemirror_mode": {
    "name": "ipython",
    "version": 3
   },
   "file_extension": ".py",
   "mimetype": "text/x-python",
   "name": "python",
   "nbconvert_exporter": "python",
   "pygments_lexer": "ipython3",
   "version": "3.8.5"
  }
 },
 "nbformat": 4,
 "nbformat_minor": 4
}
