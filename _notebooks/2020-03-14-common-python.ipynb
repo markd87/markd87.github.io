{
 "cells": [
  {
   "cell_type": "markdown",
   "metadata": {},
   "source": [
    "# \"Common Python\"\n",
    "> \"Common Python scripts and workflows\"\n",
    "- toc: true\n",
    "- branch: master\n",
    "- badges: true\n",
    "- categories: [tools, python]\n",
    "- hide: false\n",
    "- search_exclude: true\n",
    "- show_tags: true"
   ]
  },
  {
   "cell_type": "markdown",
   "metadata": {},
   "source": [
    "## Setup\n",
    "\n",
    "### Virtual Environment\n",
    "\n",
    "```bash\n",
    "pip install virtualenv\n",
    "python3 -m venv my_venv\n",
    "source my_venv/bin/activate\n",
    "```\n",
    "\n",
    "### Requirements\n",
    "```bash\n",
    "pip install pip-tools\n",
    "pip-compile requirements.in\n",
    "pip install -r requirements.txt\n",
    "```\n",
    "\n",
    "### Formatting & linting\n",
    "\n",
    "```bash\n",
    "pip install mypy\n",
    "pip install black\n",
    "```\n",
    "\n",
    "In VScode `.vscode/settings.json`\n",
    "\n",
    "```json\n",
    "{\n",
    "    \"python.pythonPath\": \"/path/to/python\",\n",
    "    \"python.linting.pylintEnabled\": false,\n",
    "    \"python.linting.mypyEnabled\": true,\n",
    "    \"python.linting.enabled\": true,\n",
    "    \"python.formatting.provider\": \"black\",\n",
    "    \"python.formatting.blackPath\": \"/path/to/black\",\n",
    "    \"editor.formatOnSave\": true\n",
    "}\n",
    "```\n",
    "\n",
    "### Jupyter\n",
    "```bash\n",
    "pip install ipykernel \n",
    "python ipykernel install --name my_venv\n",
    "```\n",
    "Jupyter Lab Extensions\n",
    "\n",
    "```bash\n",
    "jupyter labextension install @jupyterlab/toc # table of contents, requires node 12+\n",
    "jupyter lab build\n",
    "```"
   ]
  }
 ],
 "metadata": {
  "kernelspec": {
   "display_name": "Python 3",
   "language": "python",
   "name": "python3"
  },
  "language_info": {
   "codemirror_mode": {
    "name": "ipython",
    "version": 3
   },
   "file_extension": ".py",
   "mimetype": "text/x-python",
   "name": "python",
   "nbconvert_exporter": "python",
   "pygments_lexer": "ipython3",
   "version": "3.7.6"
  }
 },
 "nbformat": 4,
 "nbformat_minor": 4
}
