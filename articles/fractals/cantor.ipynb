{
 "cells": [
  {
   "cell_type": "code",
   "execution_count": 2,
   "metadata": {
    "collapsed": true
   },
   "outputs": [],
   "source": [
    "%matplotlib inline\n",
    "\n",
    "import matplotlib.pyplot as plt\n",
    "import matplotlib.lines as mlines\n",
    "import numpy as np"
   ]
  },
  {
   "cell_type": "code",
   "execution_count": 65,
   "metadata": {},
   "outputs": [
    {
     "data": {
      "image/png": "[encoded data removed]",
      "text/plain": [
       "<matplotlib.figure.Figure at 0x1182857f0>"
      ]
     },
     "metadata": {},
     "output_type": "display_data"
    }
   ],
   "source": [
    "fig = plt.figure()\n",
    "ax = plt.gca()\n",
    "ax.set_facecolor(\"black\")\n",
    "color=\"white\"\n",
    "\n",
    "lines=[[0,1]]\n",
    "\n",
    "def draw_lines(lines):\n",
    "    for l in lines:\n",
    "        xi=l[0]\n",
    "        xf=l[1]\n",
    "        ax.plot(([xi], [xf]), ([0], [0]),linestyle='-',color=color,linewidth=0.1)\n",
    "        \n",
    "\n",
    "\n",
    "def get_points(xi,xf):\n",
    "\n",
    "    l=(xf-xi)/3\n",
    "    #print(l)\n",
    "    return([xi,xi+l,xi+2*l,xf])\n",
    "\n",
    "\n",
    "def generate_lines(lines):\n",
    "    new_lines=[]\n",
    "    for l in lines:\n",
    "        xi=l[0]\n",
    "        xf=l[1]\n",
    "        pts=get_points(xi,xf)\n",
    "        new_lines.append([pts[0],pts[1]])\n",
    "        new_lines.append([pts[2],pts[3]])\n",
    "        \n",
    "    return new_lines\n",
    "    \n",
    "def cantor(n):\n",
    "    global lines\n",
    "    for i in range(n):\n",
    "        lines=generate_lines(lines)\n",
    "\n",
    "    draw_lines(lines)\n",
    "        \n",
    "\n",
    "i=6\n",
    "cantor(i)\n",
    "\n",
    "fig.set_size_inches(15,6)\n",
    "#ax.axis('off')\n",
    "ax.set_xticks([],[])\n",
    "#ax.set_ylim(-2.7,1)\n",
    "ax.set_yticks([],[])\n",
    "ax.set_aspect(\"equal\")\n",
    "\n",
    "fig.savefig(\"cantor\"+str(i)+\".pdf\",bbox_inches='tight',dpi=500)"
   ]
  },
  {
   "cell_type": "code",
   "execution_count": null,
   "metadata": {
    "collapsed": true
   },
   "outputs": [],
   "source": []
  }
 ],
 "metadata": {
  "kernelspec": {
   "display_name": "Python [default]",
   "language": "python",
   "name": "python3"
  },
  "language_info": {
   "codemirror_mode": {
    "name": "ipython",
    "version": 3
   },
   "file_extension": ".py",
   "mimetype": "text/x-python",
   "name": "python",
   "nbconvert_exporter": "python",
   "pygments_lexer": "ipython3",
   "version": "3.5.3"
  }
 },
 "nbformat": 4,
 "nbformat_minor": 2
}
