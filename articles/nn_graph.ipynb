{
 "cells": [
  {
   "cell_type": "code",
   "execution_count": 1,
   "metadata": {
    "collapsed": true
   },
   "outputs": [],
   "source": [
    "import matplotlib\n",
    "import matplotlib.pyplot as plt\n",
    "import numpy as np\n",
    "%matplotlib inline  "
   ]
  },
  {
   "cell_type": "code",
   "execution_count": 41,
   "metadata": {
    "collapsed": false
   },
   "outputs": [],
   "source": [
    "def nn_graph(nodes,colors='k',fname=None):\n",
    "    '''\n",
    "    draws neural network graph with the number of nodes is each layer given by the \"nodes\" list,\n",
    "    and the color of each layer's nodes given by a list of colors (optional).\n",
    "    \n",
    "    nice colors choices: \n",
    "    [1.0, 0.5, 0.5], red with 0.5 alpha \n",
    "    [0.5, 0.5, 1.0], green with 0.5 alpha\n",
    "    [0.5, 0.7509803921568627, 0.5], blue with 0.5 alpha\n",
    "    '''\n",
    "    \n",
    "    layers=len(nodes)\n",
    "    mx=np.max(nodes)\n",
    "\n",
    "    prevy=-1\n",
    "\n",
    "    plt.figure(figsize=(1.5*layers,mx))\n",
    "    for i in range(layers):\n",
    "        x=np.zeros(nodes[i])+i\n",
    "        y=range(nodes[i])\n",
    "        if (nodes[i]<mx):\n",
    "            y+=(mx-nodes[i])/2\n",
    "            \n",
    "        #draw nodes\n",
    "        if colors=='k':\n",
    "            plt.scatter(x,y,s=1200,facecolors='k', edgecolors='k')\n",
    "        else:\n",
    "            plt.scatter(x,y,s=1200,facecolors=colors[i], edgecolors='k')\n",
    "        \n",
    "        #draw connecting lines\n",
    "        if not isinstance(prevy,int):\n",
    "            prevx=np.ones(nodes[i-1])*i-1\n",
    "\n",
    "            for a in prevy:\n",
    "                for b in y:\n",
    "                    plt.plot([i-1+0.11+0.03*layers,i-0.11-0.03*layers],[a,b],'gray')\n",
    "                    plt.axis('off')\n",
    "                    plt.margins(0.17, 0.17)\n",
    "        \n",
    "        prevy=y\n",
    "\n",
    "    if fname!=None:\n",
    "        plt.savefig('nn.png',tight_box=\"inches\")\n",
    "    plt.show()"
   ]
  },
  {
   "cell_type": "code",
   "execution_count": 42,
   "metadata": {
    "collapsed": false
   },
   "outputs": [
    {
     "data": {
      "image/png": "[encoded data removed]",
      "text/plain": [
       "<matplotlib.figure.Figure at 0x10f480358>"
      ]
     },
     "metadata": {},
     "output_type": "display_data"
    }
   ],
   "source": [
    "nodes=[3,2,1]\n",
    "colors= [[1.0, 0.5, 0.5],  [0.5, 0.5, 1.0], [0.5, 0.7509803921568627, 0.5]]\n",
    "nn_graph(nodes,colors)"
   ]
  },
  {
   "cell_type": "code",
   "execution_count": null,
   "metadata": {
    "collapsed": true
   },
   "outputs": [],
   "source": []
  }
 ],
 "metadata": {
  "anaconda-cloud": {},
  "kernelspec": {
   "display_name": "Python [default]",
   "language": "python",
   "name": "python3"
  },
  "language_info": {
   "codemirror_mode": {
    "name": "ipython",
    "version": 3
   },
   "file_extension": ".py",
   "mimetype": "text/x-python",
   "name": "python",
   "nbconvert_exporter": "python",
   "pygments_lexer": "ipython3",
   "version": "3.5.2"
  }
 },
 "nbformat": 4,
 "nbformat_minor": 1
}
