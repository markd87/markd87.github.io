{
 "cells": [
  {
   "cell_type": "code",
   "execution_count": 66,
   "metadata": {
    "collapsed": true
   },
   "outputs": [],
   "source": [
    "import matplotlib\n",
    "import matplotlib.pyplot as plt\n",
    "import numpy as np\n",
    "%matplotlib inline  "
   ]
  },
  {
   "cell_type": "markdown",
   "metadata": {},
   "source": [
    "<h2>neural network class</h2>\n",
    "<h3>containig: train, predict and loss methods</h3>"
   ]
  },
  {
   "cell_type": "code",
   "execution_count": 106,
   "metadata": {
    "collapsed": false
   },
   "outputs": [],
   "source": [
    "class neural_network:\n",
    "    \n",
    "    def __init__(self,ni,nh,no,activation, lr):\n",
    "        self.ni = ni\n",
    "        self.nh = nh\n",
    "        self.no = no\n",
    "        self.lr = lr\n",
    "        self.activation = activation\n",
    "        \n",
    "        #self.wh=np.random.rand(self.nh,self.ni)\n",
    "        self.wh = np.random.normal(0, 1, (self.nh, self.ni))/np.sqrt(ni)\n",
    "        self.bh=np.zeros((self.nh,1))\n",
    "        #self.wo=np.random.rand(self.no,self.nh)\n",
    "        self.wo = np.random.normal(0, 1, (self.no, self.nh))/np.sqrt(nh)\n",
    "        self.bo=np.zeros((self.no,1))\n",
    "        \n",
    "        if activation=='sigmoid':\n",
    "            self.nonlin= lambda x: 1/(1+np.exp(-x))\n",
    "            self.dnonlin= lambda x: 1/(1+np.exp(-x))*(1-1/(1+np.exp(-x)))\n",
    "        elif activation=='tanh':\n",
    "            self.nonlin= lambda x: np.tanh(x)\n",
    "            self.dnonlin= lambda x: 1/np.cosh(x)**2\n",
    "        else:\n",
    "            self.nonlin=lambda x: np.maximum(x, 0, x)\n",
    "            self.dnonlin=lambda x: np.ones(x.shape)*(x>0)\n",
    "        \n",
    "        pass\n",
    "\n",
    "    def loss(self,y,pred):\n",
    "        return np.sum(0.5*(y-pred)**2)\n",
    "\n",
    "    def predict(self,x):\n",
    "        x=x.T\n",
    "        a1=self.nonlin(np.dot(self.wh,x)+self.bh)\n",
    "        a2=self.nonlin(np.dot(self.wo,a1)+self.bo)\n",
    "        return a2\n",
    "\n",
    "    def train(self,X,y):\n",
    "    \n",
    "        X=X.T\n",
    "        y=y.T\n",
    "    \n",
    "\n",
    "        #train using the whole training sample\n",
    "        batch_size = X.shape[1]\n",
    "    \n",
    "        #number of times to go over the training data\n",
    "        epochs=50000\n",
    "\n",
    "        print('training network with ' + self.activation + ' activation:')\n",
    "        for i in range(epochs):\n",
    "            #input into hidden layer\n",
    "            zh=np.dot(self.wh,X)+np.repeat(self.bh,batch_size,axis=1)\n",
    "            #hidden layer activations\n",
    "            ah=self.nonlin(zh)\n",
    "            #input into output layer\n",
    "            zo=np.dot(self.wo,ah)+np.repeat(self.bo,batch_size,axis=1)\n",
    "            #output layer\n",
    "            ao=self.nonlin(zo)        \n",
    "\n",
    "            #output layer error - difference with true label y\n",
    "            err=(ao-y)\n",
    "            \n",
    "            #print error every 10000 epochs\n",
    "            if (i%10000==0):\n",
    "                print('loss after %d epochs %f' % (i,self.loss(y,ao)))\n",
    "\n",
    "            delo=err*self.dnonlin(zo)\n",
    "            delh=(self.wo.T.dot(delo))*self.dnonlin(zh)\n",
    "\n",
    "            #weights update\n",
    "            self.wh-=self.lr*np.dot(delh,X.T)/batch_size\n",
    "            self.wo-=self.lr*np.dot(delo,ah.T)/batch_size\n",
    "\n",
    "            #biases update\n",
    "            meanh=np.expand_dims(np.sum(delh,axis=1)/batch_size,1)\n",
    "            meano=np.expand_dims(np.sum(delo,axis=1)/batch_size,1)\n",
    "            self.bh-=self.lr*meanh\n",
    "            self.bo-=self.lr*meano\n",
    "            \n",
    "        pass"
   ]
  },
  {
   "cell_type": "markdown",
   "metadata": {},
   "source": [
    "<h3>XOR function</h3>"
   ]
  },
  {
   "cell_type": "code",
   "execution_count": 187,
   "metadata": {
    "collapsed": false
   },
   "outputs": [
    {
     "data": {
      "image/png": "[encoded data removed]",
      "text/plain": [
       "<matplotlib.figure.Figure at 0x10ef49940>"
      ]
     },
     "metadata": {},
     "output_type": "display_data"
    }
   ],
   "source": [
    "plt.scatter([0,1],[0,1],s=1000,marker='o',label='0')\n",
    "plt.scatter([0,1],[1,0],s=1000,marker='X',label='1')\n",
    "plt.legend(loc=(1.1,0.37),fontsize = 'xx-large',labelspacing=1.5)\n",
    "plt.title('XOR function')\n",
    "plt.xlim([-0.1,1.1])\n",
    "plt.ylim([-0.1,1.1]);\n",
    "plt.tight_layout()"
   ]
  },
  {
   "cell_type": "markdown",
   "metadata": {},
   "source": [
    "<h2>setting up network and learning</h2>"
   ]
  },
  {
   "cell_type": "code",
   "execution_count": 107,
   "metadata": {
    "collapsed": false
   },
   "outputs": [
    {
     "name": "stdout",
     "output_type": "stream",
     "text": [
      "training network with sigmoid activation:\n",
      "loss after 0 epochs 0.524041\n",
      "loss after 10000 epochs 0.000211\n",
      "loss after 20000 epochs 0.000101\n",
      "loss after 30000 epochs 0.000066\n",
      "loss after 40000 epochs 0.000049\n",
      "\n",
      "training network with tanh activation:\n",
      "loss after 0 epochs 0.815223\n",
      "loss after 10000 epochs 0.000089\n",
      "loss after 20000 epochs 0.000041\n",
      "loss after 30000 epochs 0.000026\n",
      "loss after 40000 epochs 0.000019\n",
      "\n",
      "training network with relu activation:\n",
      "loss after 0 epochs 0.726709\n",
      "loss after 10000 epochs 0.000000\n",
      "loss after 20000 epochs 0.000000\n",
      "loss after 30000 epochs 0.000000\n",
      "loss after 40000 epochs 0.000000\n"
     ]
    }
   ],
   "source": [
    "np.random.seed(0)\n",
    "\n",
    "X=np.array([[0,0],[1,0],[0,1],[1,1]])\n",
    "y=np.array([[0],[1],[1],[0]])\n",
    "\n",
    "nn1=neural_network(2,2,1,'sigmoid',5)\n",
    "nn2=neural_network(2,2,1,'tanh',0.3)\n",
    "nn3=neural_network(2,2,1,'relu',0.1)\n",
    "\n",
    "nn1.train(X,y)\n",
    "print()\n",
    "nn2.train(X,y)\n",
    "print()\n",
    "nn3.train(X,y)"
   ]
  },
  {
   "cell_type": "markdown",
   "metadata": {},
   "source": [
    "<h2>Check final network results</h2>"
   ]
  },
  {
   "cell_type": "code",
   "execution_count": 108,
   "metadata": {
    "collapsed": false
   },
   "outputs": [
    {
     "name": "stdout",
     "output_type": "stream",
     "text": [
      "sigmoid net:\n",
      "input : [0 0] output: 0.00498677608341\n",
      "input : [1 0] output: 0.995797811796\n",
      "input : [0 1] output: 0.995807280359\n",
      "input : [1 1] output: 0.00427497259731\n",
      "tanh net:\n",
      "input : [0 0] output: 2.54374979424e-05\n",
      "input : [1 0] output: 0.996137582397\n",
      "input : [0 1] output: 0.996104441828\n",
      "input : [1 1] output: 3.76155213167e-05\n",
      "relu net:\n",
      "input : [0 0] output: 4.20935895214e-15\n",
      "input : [1 0] output: 1.0\n",
      "input : [0 1] output: 1.0\n",
      "input : [1 1] output: 1.78584538084e-15\n"
     ]
    }
   ],
   "source": [
    "print('sigmoid net:')\n",
    "for x,p in zip(X,nn1.predict(X)[0]):\n",
    "    print('input :',x, 'output:', p)\n",
    "    \n",
    "print('tanh net:')    \n",
    "for x,p in zip(X,nn2.predict(X)[0]):\n",
    "    print('input :',x, 'output:', p)\n",
    "    \n",
    "print('relu net:')        \n",
    "for x,p in zip(X,nn3.predict(X)[0]):\n",
    "    print('input :',x, 'output:', p)"
   ]
  },
  {
   "cell_type": "code",
   "execution_count": 100,
   "metadata": {
    "collapsed": false
   },
   "outputs": [
    {
     "data": {
      "text/plain": [
       "array([[  3.76155213e-05]])"
      ]
     },
     "execution_count": 100,
     "metadata": {},
     "output_type": "execute_result"
    }
   ],
   "source": [
    "nn2.predict(np.array([[1,1]]))"
   ]
  },
  {
   "cell_type": "markdown",
   "metadata": {},
   "source": [
    "<h3>activation functions</h3>"
   ]
  },
  {
   "cell_type": "code",
   "execution_count": 662,
   "metadata": {
    "collapsed": false
   },
   "outputs": [
    {
     "data": {
      "image/png": "[encoded data removed]",
      "text/plain": [
       "<matplotlib.figure.Figure at 0x1161916d8>"
      ]
     },
     "metadata": {},
     "output_type": "display_data"
    }
   ],
   "source": [
    "x=np.arange(-10,10,0.01)\n",
    "\n",
    "#fig=plt.subplots(2,3)\n",
    "\n",
    "plt.subplot(231)\n",
    "plt.title(r'$\\sigma(x)$')\n",
    "plt.plot(x,1/(1+np.exp(-x)),'r')\n",
    "\n",
    "plt.subplot(234)\n",
    "plt.title(r'$\\sigma(x)(1-\\sigma(x))$')\n",
    "plt.plot(x,1/(1+np.exp(-x))*(1-1/(1+np.exp(-x))),'r')\n",
    "\n",
    "plt.subplot(232)\n",
    "plt.title(r'$\\tanh(x)$')\n",
    "plt.plot(x,np.tanh(x),'g')\n",
    "\n",
    "plt.subplot(235)\n",
    "plt.title(r'$1/\\cosh^2(x)$')\n",
    "plt.plot(x,1/np.cosh(x)**2,'g')\n",
    "\n",
    "plt.subplot(233)\n",
    "plt.title(r'$ReLU(x)$')\n",
    "plt.plot(x,x*(x>0),'b')\n",
    "\n",
    "plt.subplot(236)\n",
    "plt.title(r'$x>0$')\n",
    "plt.plot(x,1*(x>0),'b')\n",
    "\n",
    "plt.tight_layout()\n",
    "\n",
    "plt.xlim([-10,10])\n",
    "\n",
    "plt.savefig('activations.png',bbox_inches='tight',dpi=300)"
   ]
  }
 ],
 "metadata": {
  "anaconda-cloud": {},
  "kernelspec": {
   "display_name": "Python [conda root]",
   "language": "python",
   "name": "conda-root-py"
  },
  "language_info": {
   "codemirror_mode": {
    "name": "ipython",
    "version": 3
   },
   "file_extension": ".py",
   "mimetype": "text/x-python",
   "name": "python",
   "nbconvert_exporter": "python",
   "pygments_lexer": "ipython3",
   "version": "3.5.2"
  }
 },
 "nbformat": 4,
 "nbformat_minor": 1
}
