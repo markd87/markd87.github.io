{
 "cells": [
  {
   "cell_type": "markdown",
   "metadata": {},
   "source": [
    "<h1>Digit classification</h1>"
   ]
  },
  {
   "cell_type": "code",
   "execution_count": 2,
   "metadata": {
    "collapsed": true
   },
   "outputs": [],
   "source": [
    "import matplotlib\n",
    "import matplotlib.pyplot as plt\n",
    "import numpy as np\n",
    "%matplotlib inline  "
   ]
  },
  {
   "cell_type": "code",
   "execution_count": 6,
   "metadata": {
    "collapsed": false
   },
   "outputs": [],
   "source": [
    "class neural_network:\n",
    "    \n",
    "    def __init__(self,ni,nh,no,activation,lr,ll):\n",
    "        self.ni = ni\n",
    "        self.nh = nh\n",
    "        self.no = no\n",
    "        self.lr = lr\n",
    "        self.activation = activation\n",
    "        self.reg = ll\n",
    "        \n",
    "        np.random.seed(0)\n",
    "        self.wh = np.random.normal(0, 1, (self.nh, self.ni))/np.sqrt(ni)\n",
    "        self.bh=np.zeros((self.nh,1))\n",
    "        self.wo = np.random.normal(0, 1, (self.no, self.nh))/np.sqrt(nh)\n",
    "        self.bo=np.zeros((self.no,1))\n",
    "        \n",
    "        if activation=='sigmoid':\n",
    "            self.nonlin= lambda x: 1/(1+np.exp(-x))\n",
    "            self.dnonlin= lambda x: 1/(1+np.exp(-x))*(1-1/(1+np.exp(-x)))\n",
    "        elif activation=='tanh':\n",
    "            self.nonlin= lambda x: np.tanh(x)\n",
    "            self.dnonlin= lambda x: 1/np.cosh(x)**2\n",
    "        else:\n",
    "            self.nonlin=lambda x: np.maximum(x, 0, x)\n",
    "            self.dnonlin=lambda x: np.ones(x.shape)*(x>0)\n",
    "        \n",
    "        pass\n",
    "\n",
    "    def loss(self,y,pred):\n",
    "        return np.sum(np.nan_to_num(-y*np.log(pred)))+self.reg/2*(np.sum(self.wh[:]**2)+np.sum(self.wo[:]**2))\n",
    "\n",
    "    @staticmethod\n",
    "    def softmax(z):\n",
    "        sm=np.sum(np.exp(z))\n",
    "        return np.exp(z)/sm\n",
    "    \n",
    "    def predict(self,x):\n",
    "        x=np.array(x,ndmin=2).T\n",
    "        a1=self.nonlin(np.dot(self.wh,x)+self.bh)\n",
    "        a2=np.dot(self.wo,a1)+self.bo\n",
    "        o2=self.softmax(a2)\n",
    "        return o2\n",
    "\n",
    "    \n",
    "    def score(self,X,y):\n",
    "        score_lst=[]\n",
    "        for i in range(y.shape[1]):\n",
    "            pred=np.argmax(self.predict(X[:,i]))\n",
    "            yv=np.argmax(y[:,i])\n",
    "            score_lst.append(np.int(pred==yv))\n",
    "\n",
    "        print('accuracy: ', np.sum(score_lst)/len(score_lst))        \n",
    "        # return list of scores\n",
    "        return score_lst\n",
    "\n",
    "    def train(self,X,y):\n",
    "\n",
    "        #train using the whole training sample\n",
    "        batch_size = 1 #X.shape[1]\n",
    "    \n",
    "        #number of times to go over the training data\n",
    "        epochs=200\n",
    "\n",
    "        loss_lst=[]\n",
    "        print('training network with ' + self.activation + ' activation:')\n",
    "        for i in range(epochs):\n",
    "            ls=0\n",
    "            m=0  \n",
    "            gradwh=0\n",
    "            gradwo=0\n",
    "            gradbh=0\n",
    "            gradbo=0\n",
    "            \n",
    "            for (xi,yi) in zip(X.T,y.T):    \n",
    "                m+=1\n",
    "                xi=np.array(xi,ndmin=2).T\n",
    "                yi=np.array(yi,ndmin=2).T\n",
    "                #input into hidden layer\n",
    "                zh=np.dot(self.wh,xi)+self.bh\n",
    "                #hidden layer activations\n",
    "                ah=self.nonlin(zh)\n",
    "                #input into output layer\n",
    "                zo=np.dot(self.wo,ah)+self.bo\n",
    "                #output layer\n",
    "            \n",
    "                #ao=self.nonlin(zo)        \n",
    "                ao=self.softmax(zo)\n",
    "\n",
    "                #output layer error - difference with true label y\n",
    "                err=(ao-yi)\n",
    "            \n",
    "                ls+=(self.loss(yi,ao))\n",
    "                \n",
    "                delo = err\n",
    "                \n",
    "                delh=(self.wo.T.dot(delo))*self.dnonlin(zh)\n",
    "\n",
    "                gradwh+=np.dot(delh,xi.T)\n",
    "                gradwo+=np.dot(delo,ah.T)\n",
    "                gradbh+=delh\n",
    "                gradbo+=delo\n",
    "                \n",
    "                minibatch=10\n",
    "                if m%minibatch==0:\n",
    "                    #weights update\n",
    "                    self.wh-=self.lr*(gradwh)/minibatch+self.lr*self.reg*self.wh\n",
    "                    self.wo-=self.lr*(gradwo)/minibatch+self.lr*self.reg*self.wo\n",
    "\n",
    "                    #biases update\n",
    "                    self.bh-=self.lr*gradbh/minibatch\n",
    "                    self.bo-=self.lr*gradbo/minibatch\n",
    "                    \n",
    "                    gradwh=0\n",
    "                    gradwo=0\n",
    "                    gradbh=0\n",
    "                    gradbo=0\n",
    "            \n",
    "            loss_lst.append(ls)\n",
    "            if (i%10==0):\n",
    "                print('epoch: ',i,', loss: ',ls)\n",
    "\n",
    "        plt.plot(loss_lst) \n",
    "        plt.show()\n",
    "        \n",
    "        pass"
   ]
  },
  {
   "cell_type": "code",
   "execution_count": 7,
   "metadata": {
    "collapsed": false
   },
   "outputs": [],
   "source": [
    "train_file = open(\"mnist_train.csv\", 'r')\n",
    "train_set = train_file.readlines()\n",
    "train_file.close()\n",
    "\n",
    "test_file = open(\"mnist_test.csv\", 'r')\n",
    "test_set = test_file.readlines()\n",
    "test_file.close()"
   ]
  },
  {
   "cell_type": "code",
   "execution_count": 8,
   "metadata": {
    "collapsed": false
   },
   "outputs": [],
   "source": [
    "#create random indices for the training and validation set from the training set\n",
    "nums=np.arange(0,20000)\n",
    "np.random.shuffle(nums)\n",
    "rand_train_ind = nums[:18000]\n",
    "rand_val_ind = nums[18000:]"
   ]
  },
  {
   "cell_type": "code",
   "execution_count": 9,
   "metadata": {
    "collapsed": false
   },
   "outputs": [],
   "source": [
    "def preproc(data):\n",
    "    \n",
    "    labels=np.empty([10,1])\n",
    "    vals=np.empty([784,1])\n",
    "\n",
    "    i=0\n",
    "    for p in data:\n",
    "        i+=1\n",
    "        if (i%1000==0):\n",
    "            print(i) \n",
    "        data=np.asfarray(p.split(','))\n",
    "        y=int(data[0])\n",
    "        lab=np.zeros((10,1))\n",
    "        lab[y]=1\n",
    "        labels=np.hstack((labels,lab))\n",
    "        img=np.array(data[1:],ndmin=2).reshape(784,1)/255.0\n",
    "        vals=np.hstack((vals,img))\n",
    "\n",
    "    vals=vals[:,1:]\n",
    "    labels=labels[:,1:]\n",
    "    \n",
    "    return (vals, labels)"
   ]
  },
  {
   "cell_type": "code",
   "execution_count": 10,
   "metadata": {
    "collapsed": false
   },
   "outputs": [
    {
     "name": "stdout",
     "output_type": "stream",
     "text": [
      "1000\n",
      "2000\n",
      "3000\n",
      "4000\n",
      "5000\n",
      "6000\n",
      "7000\n",
      "8000\n",
      "9000\n",
      "10000\n",
      "11000\n",
      "12000\n",
      "13000\n",
      "14000\n",
      "15000\n",
      "16000\n",
      "17000\n",
      "18000\n",
      "1000\n",
      "2000\n",
      "1000\n",
      "2000\n",
      "3000\n",
      "4000\n",
      "5000\n",
      "6000\n",
      "7000\n",
      "8000\n",
      "9000\n",
      "10000\n"
     ]
    }
   ],
   "source": [
    "rand_train = [train_set[i] for i in rand_train_ind]\n",
    "rand_val = [train_set[i] for i in rand_val_ind]\n",
    "\n",
    "(x_train,y_train) = preproc(rand_train)\n",
    "(x_val,y_val) = preproc(rand_val)\n",
    "\n",
    "(x_test,y_test) = preproc(test_set)"
   ]
  },
  {
   "cell_type": "code",
   "execution_count": 12,
   "metadata": {
    "collapsed": true
   },
   "outputs": [],
   "source": [
    "nn1=neural_network(784,100,10,'relu',0.1,0.002)"
   ]
  },
  {
   "cell_type": "code",
   "execution_count": 13,
   "metadata": {
    "collapsed": false
   },
   "outputs": [
    {
     "name": "stdout",
     "output_type": "stream",
     "text": [
      "training network with relu activation:\n",
      "epoch:  0 , loss:  9408.25257833\n",
      "epoch:  10 , loss:  4440.39945997\n",
      "epoch:  20 , loss:  4333.96701063\n",
      "epoch:  30 , loss:  4277.59876745\n",
      "epoch:  40 , loss:  4244.73716297\n",
      "epoch:  50 , loss:  4234.4720515\n",
      "epoch:  60 , loss:  4224.44056598\n",
      "epoch:  70 , loss:  4213.89872276\n",
      "epoch:  80 , loss:  4206.53568999\n",
      "epoch:  90 , loss:  4195.75618751\n",
      "epoch:  100 , loss:  4192.46048788\n",
      "epoch:  110 , loss:  4193.168517\n",
      "epoch:  120 , loss:  4183.1714839\n",
      "epoch:  130 , loss:  4178.7188555\n",
      "epoch:  140 , loss:  4177.35391609\n",
      "epoch:  150 , loss:  4173.00837802\n",
      "epoch:  160 , loss:  4175.69934598\n",
      "epoch:  170 , loss:  4172.88872587\n",
      "epoch:  180 , loss:  4177.35118544\n",
      "epoch:  190 , loss:  4173.31381838\n"
     ]
    },
    {
     "data": {
      "image/png": "[encoded data removed]",
      "text/plain": [
       "<matplotlib.figure.Figure at 0x10ac3c160>"
      ]
     },
     "metadata": {},
     "output_type": "display_data"
    }
   ],
   "source": [
    "nn1.train(x_train,y_train)"
   ]
  },
  {
   "cell_type": "code",
   "execution_count": 17,
   "metadata": {
    "collapsed": false
   },
   "outputs": [
    {
     "name": "stdout",
     "output_type": "stream",
     "text": [
      "train set:\n",
      "accuracy:  0.983166666667\n",
      "validation set:\n",
      "accuracy:  0.963\n",
      "test set:\n",
      "accuracy:  0.9649\n"
     ]
    }
   ],
   "source": [
    "print('train set:') \n",
    "train_score=nn1.score(x_train,y_train)\n",
    "print('validation set:') \n",
    "val_score=nn1.score(x_val,y_val)\n",
    "print('test set:') \n",
    "test_score=nn1.score(x_test,y_test)"
   ]
  },
  {
   "cell_type": "code",
   "execution_count": 43,
   "metadata": {
    "collapsed": false
   },
   "outputs": [],
   "source": [
    "correct=[i for i in range(len(test_score)) if test_score[i]==1]\n",
    "wrong=[i for i in range(len(test_score)) if test_score[i]==0]"
   ]
  },
  {
   "cell_type": "code",
   "execution_count": 35,
   "metadata": {
    "collapsed": false
   },
   "outputs": [
    {
     "data": {
      "text/plain": [
       "[8, 77, 124, 247, 259]"
      ]
     },
     "execution_count": 35,
     "metadata": {},
     "output_type": "execute_result"
    }
   ],
   "source": [
    "wrong[:5]"
   ]
  },
  {
   "cell_type": "code",
   "execution_count": 48,
   "metadata": {
    "collapsed": false
   },
   "outputs": [
    {
     "data": {
      "text/plain": [
       "[0, 1, 2, 3, 4]"
      ]
     },
     "execution_count": 48,
     "metadata": {},
     "output_type": "execute_result"
    }
   ],
   "source": [
    "correct[:5]"
   ]
  },
  {
   "cell_type": "code",
   "execution_count": 71,
   "metadata": {
    "collapsed": false
   },
   "outputs": [
    {
     "data": {
      "text/plain": [
       "7"
      ]
     },
     "execution_count": 71,
     "metadata": {},
     "output_type": "execute_result"
    }
   ],
   "source": [
    "np.argmax(y_test[:,0])"
   ]
  },
  {
   "cell_type": "code",
   "execution_count": 72,
   "metadata": {
    "collapsed": false
   },
   "outputs": [
    {
     "data": {
      "text/plain": [
       "7"
      ]
     },
     "execution_count": 72,
     "metadata": {},
     "output_type": "execute_result"
    }
   ],
   "source": [
    "np.argmax(nn1.predict(np.array(x_test[:,0],ndmin=2).T))"
   ]
  },
  {
   "cell_type": "code",
   "execution_count": 73,
   "metadata": {
    "collapsed": false
   },
   "outputs": [
    {
     "data": {
      "image/png": "[encoded data removed]",
      "text/plain": [
       "<matplotlib.figure.Figure at 0x113c31a20>"
      ]
     },
     "metadata": {},
     "output_type": "display_data"
    }
   ],
   "source": [
    "plt.imshow(x_test[:,0].reshape(28,28),cmap='gray',interpolation=None);"
   ]
  },
  {
   "cell_type": "code",
   "execution_count": 456,
   "metadata": {
    "collapsed": false
   },
   "outputs": [],
   "source": [
    "zeros =[i for i in range(x_train.shape[1]) if y_train[:,i][0]==1.0]\n",
    "ones =[i for i in range(x_train.shape[1]) if y_train[:,i][1]==1.0]\n",
    "twos =[i for i in range(x_train.shape[1]) if y_train[:,i][2]==1.0]\n",
    "threes =[i for i in range(x_train.shape[1]) if y_train[:,i][3]==1.0]\n",
    "fours =[i for i in range(x_train.shape[1]) if y_train[:,i][4]==1.0]\n",
    "fives =[i for i in range(x_train.shape[1]) if y_train[:,i][5]==1.0]\n",
    "sixs =[i for i in range(x_train.shape[1]) if y_train[:,i][6]==1.0]\n",
    "sevens =[i for i in range(x_train.shape[1]) if y_train[:,i][7]==1.0]\n",
    "eights =[i for i in range(x_train.shape[1]) if y_train[:,i][8]==1.0]\n",
    "nines =[i for i in range(x_train.shape[1]) if y_train[:,i][9]==1.0]"
   ]
  },
  {
   "cell_type": "code",
   "execution_count": 463,
   "metadata": {
    "collapsed": true
   },
   "outputs": [],
   "source": [
    "def plot_img(data):\n",
    "    plt.imshow(data.reshape(28,28),cmap='gray',interpolation=None)\n",
    "    plt.axis('off')"
   ]
  },
  {
   "cell_type": "code",
   "execution_count": 517,
   "metadata": {
    "collapsed": false
   },
   "outputs": [
    {
     "data": {
      "text/plain": [
       "array([ 0.,  1.,  0.,  0.,  0.,  0.,  0.,  0.,  0.,  0.])"
      ]
     },
     "execution_count": 517,
     "metadata": {},
     "output_type": "execute_result"
    }
   ],
   "source": [
    "y_test[:,7000]"
   ]
  },
  {
   "cell_type": "code",
   "execution_count": 468,
   "metadata": {
    "collapsed": false
   },
   "outputs": [
    {
     "data": {
      "image/png": "[encoded data removed]",
      "text/plain": [
       "<matplotlib.figure.Figure at 0x125bda6d8>"
      ]
     },
     "metadata": {},
     "output_type": "display_data"
    }
   ],
   "source": [
    "fig = plt.figure()\n",
    "\n",
    "plt.subplot(431)\n",
    "plot_img(x_train[:,zeros[0]])\n",
    "\n",
    "plt.subplot(432)\n",
    "plot_img(x_train[:,ones[0]])\n",
    "\n",
    "plt.subplot(433)\n",
    "plot_img(x_train[:,twos[0]])\n",
    "\n",
    "plt.subplot(434)\n",
    "plot_img(x_train[:,threes[0]])\n",
    "\n",
    "plt.subplot(435)\n",
    "plot_img(x_train[:,fours[0]])\n",
    "\n",
    "plt.subplot(436)\n",
    "plot_img(x_train[:,fives[0]])\n",
    "\n",
    "plt.subplot(437)\n",
    "plot_img(x_train[:,sixs[0]])\n",
    "\n",
    "plt.subplot(438)\n",
    "plot_img(x_train[:,sevens[0]])\n",
    "\n",
    "plt.subplot(4,3,9)\n",
    "plot_img(x_train[:,eights[0]])\n",
    "\n",
    "plt.subplot(4,3,11)\n",
    "plot_img(x_train[:,nines[0]]);\n",
    "\n",
    "plt.axis('off');\n",
    "\n",
    "fig.savefig('digits.png',bbox_inches='tight',dpi=300)"
   ]
  },
  {
   "cell_type": "code",
   "execution_count": null,
   "metadata": {
    "collapsed": true
   },
   "outputs": [],
   "source": []
  },
  {
   "cell_type": "code",
   "execution_count": 5,
   "metadata": {
    "collapsed": false
   },
   "outputs": [
    {
     "name": "stdout",
     "output_type": "stream",
     "text": [
      "/Users/markd/Documents\n"
     ]
    }
   ],
   "source": [
    "cd Documents/"
   ]
  },
  {
   "cell_type": "code",
   "execution_count": null,
   "metadata": {
    "collapsed": true
   },
   "outputs": [],
   "source": []
  }
 ],
 "metadata": {
  "anaconda-cloud": {},
  "kernelspec": {
   "display_name": "Python [conda root]",
   "language": "python",
   "name": "conda-root-py"
  },
  "language_info": {
   "codemirror_mode": {
    "name": "ipython",
    "version": 3
   },
   "file_extension": ".py",
   "mimetype": "text/x-python",
   "name": "python",
   "nbconvert_exporter": "python",
   "pygments_lexer": "ipython3",
   "version": "3.5.2"
  }
 },
 "nbformat": 4,
 "nbformat_minor": 1
}
